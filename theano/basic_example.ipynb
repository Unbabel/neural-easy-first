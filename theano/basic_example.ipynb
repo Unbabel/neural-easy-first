{
 "cells": [
  {
   "cell_type": "markdown",
   "metadata": {},
   "source": [
    "### Modules and Config"
   ]
  },
  {
   "cell_type": "code",
   "execution_count": 15,
   "metadata": {
    "collapsed": false
   },
   "outputs": [
    {
     "data": {
      "text/plain": [
       "<module 'gru' from 'gru.py'>"
      ]
     },
     "execution_count": 15,
     "metadata": {},
     "output_type": "execute_result"
    }
   ],
   "source": [
    "# Installed\n",
    "import numpy as np\n",
    "import theano\n",
    "import theano.tensor as TT\n",
    "from pdb import set_trace\n",
    "theano.config.optimizer='None'\n",
    "theano.gof.cc.get_module_cache().clear()\n",
    "\n",
    "# Local\n",
    "import shared\n",
    "import misc \n",
    "reload(misc)\n",
    "import nef\n",
    "reload(nef)\n",
    "import gru\n",
    "reload(gru)"
   ]
  },
  {
   "cell_type": "markdown",
   "metadata": {},
   "source": [
    "**Configuration**"
   ]
  },
  {
   "cell_type": "code",
   "execution_count": 16,
   "metadata": {
    "collapsed": true
   },
   "outputs": [],
   "source": [
    "# outer world\n",
    "nr_words = 40     # Number of words\n",
    "voc_size = 100    # Vocabulary size \n",
    "emb_size = 50     # Embedding size\n",
    "nr_classes = 2    # Number of classes\n",
    "# \n",
    "# Sketch matrix\n",
    "sketch_dim = 10   # Sketch dimension\n",
    "nr_sketch = 3     # Sketch number\n",
    "# Attention\n",
    "attention_dim = 6 # Attention dimension\n",
    "conv_dim = 3      # Attention convolutionsl dimension \n",
    "\n",
    "# Train param\n",
    "lrate = 1.0"
   ]
  },
  {
   "cell_type": "markdown",
   "metadata": {},
   "source": [
    "### Forward pass"
   ]
  },
  {
   "cell_type": "code",
   "execution_count": 29,
   "metadata": {
    "collapsed": false
   },
   "outputs": [],
   "source": [
    "# Embeddings\n",
    "E = shared.random(size=(emb_size, voc_size), name='embeddings')\n",
    "# GRU on the source\n",
    "param_GRU = gru.init_gru(emb_size, sketch_dim, bias=True)"
   ]
  },
  {
   "cell_type": "code",
   "execution_count": 30,
   "metadata": {
    "collapsed": false
   },
   "outputs": [],
   "source": [
    "# Input\n",
    "x = TT.ivector('x')\n",
    "# Embedding\n",
    "emb = E[:, x]\n",
    "# RNN\n",
    "H = gru.gru(emb.T, param_GRU).T\n",
    "# Easy first \n",
    "p_y = nef.easy_first(H, nr_sketch, attention_dim, sketch_dim, conv_dim, nr_classes)"
   ]
  },
  {
   "cell_type": "code",
   "execution_count": 31,
   "metadata": {
    "collapsed": false
   },
   "outputs": [
    {
     "data": {
      "text/plain": [
       "[inference.w_p,\n",
       " gru.b_U,\n",
       " gru.U,\n",
       " gru.b_Ur,\n",
       " gru.U_r,\n",
       " gru.b_Uz,\n",
       " gru.U_z,\n",
       " gru.[b b_r b_z],\n",
       " gru.[W, W_r, W_z],\n",
       " embeddings,\n",
       " attention.W_sz,\n",
       " attention.W_hz,\n",
       " attention.v,\n",
       " sketch.W_s,\n",
       " sketch.W_ss,\n",
       " sketch.W_hs,\n",
       " inference.W_sp]"
      ]
     },
     "execution_count": 31,
     "metadata": {},
     "output_type": "execute_result"
    }
   ],
   "source": [
    "param = misc.get_param(p_y, named_only=True)\n",
    "param"
   ]
  },
  {
   "cell_type": "markdown",
   "metadata": {},
   "source": [
    "**Fake Example Forward**"
   ]
  },
  {
   "cell_type": "code",
   "execution_count": 32,
   "metadata": {
    "collapsed": false
   },
   "outputs": [
    {
     "name": "stdout",
     "output_type": "stream",
     "text": [
      "[(40,), (40,)]\n"
     ]
    }
   ],
   "source": [
    "# Fake data\n",
    "data_x = np.random.randint(0, voc_size-1, size=(nr_words)).astype('int32')\n",
    "dbg = theano.function([x], p_y)\n",
    "print [dat.shape for dat in dbg(data_x)]"
   ]
  },
  {
   "cell_type": "markdown",
   "metadata": {},
   "source": [
    "### Training"
   ]
  },
  {
   "cell_type": "code",
   "execution_count": 33,
   "metadata": {
    "collapsed": true
   },
   "outputs": [],
   "source": [
    "# Cost for ground truth\n",
    "y = TT.ivector('x')\n",
    "cost = -TT.mean(TT.log(p_y)[y, TT.arange(y.shape[0])])"
   ]
  },
  {
   "cell_type": "markdown",
   "metadata": {},
   "source": [
    "**Fake Example Cost**"
   ]
  },
  {
   "cell_type": "code",
   "execution_count": 34,
   "metadata": {
    "collapsed": false
   },
   "outputs": [
    {
     "name": "stdout",
     "output_type": "stream",
     "text": [
      "0.693147181993\n"
     ]
    }
   ],
   "source": [
    "# Fake data\n",
    "data_x = np.random.randint(0, voc_size-1, size=(nr_words)).astype('int32')\n",
    "data_y = np.random.randint(0, nr_classes-1, size=(nr_words)).astype('int32')\n",
    "dbg = theano.function([x, y], cost)\n",
    "print dbg(data_x, data_y)"
   ]
  },
  {
   "cell_type": "code",
   "execution_count": null,
   "metadata": {
    "collapsed": true
   },
   "outputs": [],
   "source": [
    "updates = [(par, par - lrate*TT.grad(cost, par)) for par in param]\n",
    "batch_train = theano.function([x, y], cost, updates=updates)"
   ]
  },
  {
   "cell_type": "markdown",
   "metadata": {},
   "source": [
    "**Fake Example Batch Update**"
   ]
  },
  {
   "cell_type": "code",
   "execution_count": null,
   "metadata": {
    "collapsed": false
   },
   "outputs": [],
   "source": [
    "batch_train(data_x, data_y)"
   ]
  },
  {
   "cell_type": "code",
   "execution_count": null,
   "metadata": {
    "collapsed": true
   },
   "outputs": [],
   "source": []
  }
 ],
 "metadata": {
  "kernelspec": {
   "display_name": "Python 2",
   "language": "python",
   "name": "python2"
  },
  "language_info": {
   "codemirror_mode": {
    "name": "ipython",
    "version": 2
   },
   "file_extension": ".py",
   "mimetype": "text/x-python",
   "name": "python",
   "nbconvert_exporter": "python",
   "pygments_lexer": "ipython2",
   "version": "2.7.10"
  }
 },
 "nbformat": 4,
 "nbformat_minor": 0
}
